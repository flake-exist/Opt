{
 "cells": [
  {
   "cell_type": "code",
   "execution_count": 1,
   "metadata": {},
   "outputs": [],
   "source": [
    "import numpy as np\n",
    "import tensorflow as tf\n",
    "from tensorflow.keras.datasets import mnist\n",
    "from tensorflow.python.keras.utils.data_utils import Sequence\n",
    "import autokeras as ak\n",
    "import glob\n",
    "from random import shuffle\n",
    "from tensorflow import keras "
   ]
  },
  {
   "cell_type": "code",
   "execution_count": 3,
   "metadata": {},
   "outputs": [],
   "source": [
    "npy_file_list = [np.load(i,allow_pickle=True) for i in glob.glob(\"/home/eva_01/Documents/mi/train_data/*.npy\")]\n",
    "shuffle(npy_file_list)"
   ]
  },
  {
   "cell_type": "code",
   "execution_count": 4,
   "metadata": {},
   "outputs": [],
   "source": [
    "data = np.asarray(npy_file_list)\n",
    "train_size = int(data.shape[0]*0.8)"
   ]
  },
  {
   "cell_type": "code",
   "execution_count": 5,
   "metadata": {},
   "outputs": [],
   "source": [
    "train_data = data[:train_size]\n",
    "test_data  = data[train_size:]"
   ]
  },
  {
   "cell_type": "code",
   "execution_count": 6,
   "metadata": {},
   "outputs": [],
   "source": [
    "x_train = np.asarray([i[0] for i in train_data])\n",
    "y_train = np.asarray([i[1] for i in train_data])\n",
    "\n",
    "x_test = np.asarray([i[0] for i in test_data])\n",
    "y_test = np.asarray([i[1] for i in test_data])"
   ]
  },
  {
   "cell_type": "code",
   "execution_count": 7,
   "metadata": {},
   "outputs": [
    {
     "data": {
      "text/plain": [
       "((941, 28), (941, 21))"
      ]
     },
     "execution_count": 7,
     "metadata": {},
     "output_type": "execute_result"
    }
   ],
   "source": [
    "x_train.shape,y_train.shape"
   ]
  },
  {
   "cell_type": "code",
   "execution_count": 8,
   "metadata": {},
   "outputs": [
    {
     "data": {
      "text/plain": [
       "(numpy.ndarray, numpy.ndarray)"
      ]
     },
     "execution_count": 8,
     "metadata": {},
     "output_type": "execute_result"
    }
   ],
   "source": [
    "type(x_train),type(y_train)"
   ]
  },
  {
   "cell_type": "code",
   "execution_count": 154,
   "metadata": {},
   "outputs": [
    {
     "name": "stdout",
     "output_type": "stream",
     "text": [
      "INFO:tensorflow:Reloading Oracle from existing project /home/eva_01/Documents/mi/AtomWaffe/oracle.json\n",
      "INFO:tensorflow:Reloading Tuner from /home/eva_01/Documents/mi/AtomWaffe/tuner0.json\n"
     ]
    }
   ],
   "source": [
    "shareReg =  ak.StructuredDataClassifier(\n",
    "    loss         = \"categorical_crossentropy\",\n",
    "    metrics      = \"cosine_similarity\",\n",
    "    project_name = \"AtomWaffe\",\n",
    "    max_trials   = 200,\n",
    "    directory    = \"/home/eva_01/Documents/mi\",\n",
    "    objective    = \"val_loss\",\n",
    "    overwrite    = False,\n",
    ")"
   ]
  },
  {
   "cell_type": "code",
   "execution_count": 155,
   "metadata": {},
   "outputs": [
    {
     "name": "stdout",
     "output_type": "stream",
     "text": [
      "Trial 60 Complete [00h 00m 13s]\n",
      "val_loss: 2.4385275840759277\n",
      "\n",
      "Best val_loss So Far: 3.888045310974121\n",
      "Total elapsed time: 00h 14m 02s\n",
      "INFO:tensorflow:Oracle triggered exit\n",
      "Epoch 1/100\n",
      "30/30 [==============================] - 1s 2ms/step - loss: 3.7089 - cosine_similarity: 0.3695\n",
      "Epoch 2/100\n",
      "30/30 [==============================] - 0s 2ms/step - loss: 3.6926 - cosine_similarity: 0.3824\n",
      "Epoch 3/100\n",
      "30/30 [==============================] - 0s 2ms/step - loss: 3.7173 - cosine_similarity: 0.3710\n",
      "Epoch 4/100\n",
      "30/30 [==============================] - 0s 2ms/step - loss: 3.6708 - cosine_similarity: 0.3895\n",
      "Epoch 5/100\n",
      "30/30 [==============================] - 0s 2ms/step - loss: 3.6298 - cosine_similarity: 0.3999\n",
      "Epoch 6/100\n",
      "30/30 [==============================] - 0s 2ms/step - loss: 3.5941 - cosine_similarity: 0.4094\n",
      "Epoch 7/100\n",
      "30/30 [==============================] - 0s 2ms/step - loss: 3.5555 - cosine_similarity: 0.4260\n",
      "Epoch 8/100\n",
      "30/30 [==============================] - 0s 2ms/step - loss: 3.5036 - cosine_similarity: 0.4407\n",
      "Epoch 9/100\n",
      "30/30 [==============================] - 0s 2ms/step - loss: 3.4468 - cosine_similarity: 0.4567\n",
      "Epoch 10/100\n",
      "30/30 [==============================] - 0s 2ms/step - loss: 3.3939 - cosine_similarity: 0.4802\n",
      "Epoch 11/100\n",
      "30/30 [==============================] - 0s 2ms/step - loss: 3.3275 - cosine_similarity: 0.5085\n",
      "Epoch 12/100\n",
      "30/30 [==============================] - 0s 2ms/step - loss: 3.2664 - cosine_similarity: 0.5276\n",
      "Epoch 13/100\n",
      "30/30 [==============================] - 0s 2ms/step - loss: 3.2196 - cosine_similarity: 0.5548\n",
      "Epoch 14/100\n",
      "30/30 [==============================] - 0s 2ms/step - loss: 3.1734 - cosine_similarity: 0.5674\n",
      "Epoch 15/100\n",
      "30/30 [==============================] - 0s 2ms/step - loss: 3.1215 - cosine_similarity: 0.5954\n",
      "Epoch 16/100\n",
      "30/30 [==============================] - 0s 2ms/step - loss: 3.0889 - cosine_similarity: 0.6083\n",
      "Epoch 17/100\n",
      "30/30 [==============================] - 0s 2ms/step - loss: 3.0209 - cosine_similarity: 0.6420\n",
      "Epoch 18/100\n",
      "30/30 [==============================] - 0s 2ms/step - loss: 2.9999 - cosine_similarity: 0.6491\n",
      "Epoch 19/100\n",
      "30/30 [==============================] - 0s 2ms/step - loss: 2.9664 - cosine_similarity: 0.6695\n",
      "Epoch 20/100\n",
      "30/30 [==============================] - 0s 2ms/step - loss: 2.9362 - cosine_similarity: 0.6824\n",
      "Epoch 21/100\n",
      "30/30 [==============================] - 0s 2ms/step - loss: 2.9042 - cosine_similarity: 0.7022\n",
      "Epoch 22/100\n",
      "30/30 [==============================] - 0s 2ms/step - loss: 2.8732 - cosine_similarity: 0.7191\n",
      "Epoch 23/100\n",
      "30/30 [==============================] - 0s 2ms/step - loss: 2.8517 - cosine_similarity: 0.7288\n",
      "Epoch 24/100\n",
      "30/30 [==============================] - 0s 2ms/step - loss: 2.8216 - cosine_similarity: 0.7441\n",
      "Epoch 25/100\n",
      "30/30 [==============================] - 0s 2ms/step - loss: 2.8012 - cosine_similarity: 0.7535\n",
      "Epoch 26/100\n",
      "30/30 [==============================] - 0s 2ms/step - loss: 2.7783 - cosine_similarity: 0.7674\n",
      "Epoch 27/100\n",
      "30/30 [==============================] - 0s 2ms/step - loss: 2.7570 - cosine_similarity: 0.7768\n",
      "Epoch 28/100\n",
      "30/30 [==============================] - 0s 2ms/step - loss: 2.7307 - cosine_similarity: 0.7909\n",
      "Epoch 29/100\n",
      "30/30 [==============================] - 0s 2ms/step - loss: 2.7199 - cosine_similarity: 0.7976\n",
      "Epoch 30/100\n",
      "30/30 [==============================] - 0s 2ms/step - loss: 2.7099 - cosine_similarity: 0.8028\n",
      "Epoch 31/100\n",
      "30/30 [==============================] - 0s 2ms/step - loss: 2.6960 - cosine_similarity: 0.8132\n",
      "Epoch 32/100\n",
      "30/30 [==============================] - 0s 2ms/step - loss: 2.6817 - cosine_similarity: 0.8176\n",
      "Epoch 33/100\n",
      "30/30 [==============================] - 0s 2ms/step - loss: 2.6669 - cosine_similarity: 0.8273\n",
      "Epoch 34/100\n",
      "30/30 [==============================] - 0s 2ms/step - loss: 2.6712 - cosine_similarity: 0.8256\n",
      "Epoch 35/100\n",
      "30/30 [==============================] - 0s 2ms/step - loss: 2.6435 - cosine_similarity: 0.8388\n",
      "Epoch 36/100\n",
      "30/30 [==============================] - 0s 2ms/step - loss: 2.6316 - cosine_similarity: 0.8464\n",
      "Epoch 37/100\n",
      "30/30 [==============================] - 0s 2ms/step - loss: 2.6215 - cosine_similarity: 0.8524\n",
      "Epoch 38/100\n",
      "30/30 [==============================] - 0s 2ms/step - loss: 2.6290 - cosine_similarity: 0.8442\n",
      "Epoch 39/100\n",
      "30/30 [==============================] - 0s 2ms/step - loss: 2.6060 - cosine_similarity: 0.8594\n",
      "Epoch 40/100\n",
      "30/30 [==============================] - 0s 2ms/step - loss: 2.5996 - cosine_similarity: 0.8645\n",
      "Epoch 41/100\n",
      "30/30 [==============================] - 0s 2ms/step - loss: 2.5979 - cosine_similarity: 0.8651\n",
      "Epoch 42/100\n",
      "30/30 [==============================] - 0s 2ms/step - loss: 2.5960 - cosine_similarity: 0.8664\n",
      "Epoch 43/100\n",
      "30/30 [==============================] - 0s 2ms/step - loss: 2.5855 - cosine_similarity: 0.8691\n",
      "Epoch 44/100\n",
      "30/30 [==============================] - 0s 2ms/step - loss: 2.5822 - cosine_similarity: 0.8721\n",
      "Epoch 45/100\n",
      "30/30 [==============================] - 0s 2ms/step - loss: 2.5744 - cosine_similarity: 0.8745\n",
      "Epoch 46/100\n",
      "30/30 [==============================] - 0s 2ms/step - loss: 2.5812 - cosine_similarity: 0.8719\n",
      "Epoch 47/100\n",
      "30/30 [==============================] - 0s 2ms/step - loss: 2.5744 - cosine_similarity: 0.8744\n",
      "Epoch 48/100\n",
      "30/30 [==============================] - 0s 2ms/step - loss: 2.5639 - cosine_similarity: 0.8791\n",
      "Epoch 49/100\n",
      "30/30 [==============================] - 0s 2ms/step - loss: 2.5660 - cosine_similarity: 0.8844\n",
      "Epoch 50/100\n",
      "30/30 [==============================] - 0s 2ms/step - loss: 2.5701 - cosine_similarity: 0.8777\n",
      "Epoch 51/100\n",
      "30/30 [==============================] - 0s 2ms/step - loss: 2.5660 - cosine_similarity: 0.8766\n",
      "Epoch 52/100\n",
      "30/30 [==============================] - 0s 2ms/step - loss: 2.5675 - cosine_similarity: 0.8805\n",
      "Epoch 53/100\n",
      "30/30 [==============================] - 0s 2ms/step - loss: 2.5538 - cosine_similarity: 0.8872\n",
      "Epoch 54/100\n",
      "30/30 [==============================] - 0s 2ms/step - loss: 2.5583 - cosine_similarity: 0.8839\n",
      "Epoch 55/100\n",
      "30/30 [==============================] - 0s 2ms/step - loss: 2.5499 - cosine_similarity: 0.8881\n",
      "Epoch 56/100\n",
      "30/30 [==============================] - 0s 2ms/step - loss: 2.5494 - cosine_similarity: 0.8885\n",
      "Epoch 57/100\n",
      "30/30 [==============================] - 0s 2ms/step - loss: 2.5521 - cosine_similarity: 0.8859\n",
      "Epoch 58/100\n",
      "30/30 [==============================] - 0s 2ms/step - loss: 2.5478 - cosine_similarity: 0.8853\n",
      "Epoch 59/100\n",
      "30/30 [==============================] - 0s 2ms/step - loss: 2.5494 - cosine_similarity: 0.8894\n",
      "Epoch 60/100\n",
      "30/30 [==============================] - 0s 2ms/step - loss: 2.5469 - cosine_similarity: 0.8894\n",
      "Epoch 61/100\n",
      "30/30 [==============================] - 0s 2ms/step - loss: 2.5381 - cosine_similarity: 0.8931\n",
      "Epoch 62/100\n",
      "30/30 [==============================] - 0s 2ms/step - loss: 2.5429 - cosine_similarity: 0.8894\n",
      "Epoch 63/100\n",
      "30/30 [==============================] - 0s 2ms/step - loss: 2.5447 - cosine_similarity: 0.8892\n",
      "Epoch 64/100\n",
      "30/30 [==============================] - 0s 2ms/step - loss: 2.5370 - cosine_similarity: 0.8940\n",
      "Epoch 65/100\n",
      "30/30 [==============================] - 0s 2ms/step - loss: 2.5381 - cosine_similarity: 0.8934\n",
      "Epoch 66/100\n",
      "30/30 [==============================] - 0s 2ms/step - loss: 2.5365 - cosine_similarity: 0.8946\n",
      "Epoch 67/100\n",
      "30/30 [==============================] - 0s 2ms/step - loss: 2.5430 - cosine_similarity: 0.8889\n",
      "Epoch 68/100\n",
      "30/30 [==============================] - 0s 2ms/step - loss: 2.5412 - cosine_similarity: 0.8909\n",
      "Epoch 69/100\n",
      "30/30 [==============================] - 0s 3ms/step - loss: 2.5362 - cosine_similarity: 0.8911\n",
      "Epoch 70/100\n",
      "30/30 [==============================] - 0s 2ms/step - loss: 2.5408 - cosine_similarity: 0.8905\n",
      "Epoch 71/100\n",
      "30/30 [==============================] - 0s 2ms/step - loss: 2.5334 - cosine_similarity: 0.8916\n",
      "Epoch 72/100\n",
      "30/30 [==============================] - 0s 2ms/step - loss: 2.5339 - cosine_similarity: 0.8946\n",
      "Epoch 73/100\n",
      "30/30 [==============================] - 0s 2ms/step - loss: 2.5332 - cosine_similarity: 0.8940\n",
      "Epoch 74/100\n",
      "30/30 [==============================] - 0s 2ms/step - loss: 2.5300 - cosine_similarity: 0.8956\n",
      "Epoch 75/100\n",
      "30/30 [==============================] - 0s 2ms/step - loss: 2.5293 - cosine_similarity: 0.8980\n",
      "Epoch 76/100\n",
      "30/30 [==============================] - 0s 2ms/step - loss: 2.5285 - cosine_similarity: 0.8960\n",
      "Epoch 77/100\n",
      "30/30 [==============================] - 0s 2ms/step - loss: 2.5265 - cosine_similarity: 0.8961\n",
      "Epoch 78/100\n",
      "30/30 [==============================] - 0s 2ms/step - loss: 2.5265 - cosine_similarity: 0.8987\n",
      "Epoch 79/100\n",
      "30/30 [==============================] - 0s 2ms/step - loss: 2.5274 - cosine_similarity: 0.8961\n",
      "Epoch 80/100\n",
      "30/30 [==============================] - 0s 2ms/step - loss: 2.5298 - cosine_similarity: 0.8973\n",
      "Epoch 81/100\n",
      "30/30 [==============================] - 0s 2ms/step - loss: 2.5368 - cosine_similarity: 0.8893\n",
      "Epoch 82/100\n",
      "30/30 [==============================] - 0s 2ms/step - loss: 2.5176 - cosine_similarity: 0.9037\n",
      "Epoch 83/100\n",
      "30/30 [==============================] - 0s 2ms/step - loss: 2.5343 - cosine_similarity: 0.8946\n",
      "Epoch 84/100\n",
      "30/30 [==============================] - 0s 2ms/step - loss: 2.5225 - cosine_similarity: 0.8987\n",
      "Epoch 85/100\n",
      "30/30 [==============================] - 0s 2ms/step - loss: 2.5320 - cosine_similarity: 0.8936\n",
      "Epoch 86/100\n",
      "30/30 [==============================] - 0s 2ms/step - loss: 2.5236 - cosine_similarity: 0.8999\n",
      "Epoch 87/100\n",
      "30/30 [==============================] - 0s 2ms/step - loss: 2.5246 - cosine_similarity: 0.8998\n",
      "Epoch 88/100\n",
      "30/30 [==============================] - 0s 2ms/step - loss: 2.5271 - cosine_similarity: 0.9006\n",
      "Epoch 89/100\n",
      "30/30 [==============================] - 0s 2ms/step - loss: 2.5137 - cosine_similarity: 0.9040\n",
      "Epoch 90/100\n",
      "30/30 [==============================] - 0s 2ms/step - loss: 2.5188 - cosine_similarity: 0.8989\n",
      "Epoch 91/100\n",
      "30/30 [==============================] - 0s 2ms/step - loss: 2.5176 - cosine_similarity: 0.9007\n",
      "Epoch 92/100\n",
      "30/30 [==============================] - 0s 2ms/step - loss: 2.5213 - cosine_similarity: 0.8995\n",
      "Epoch 93/100\n",
      "30/30 [==============================] - 0s 2ms/step - loss: 2.5308 - cosine_similarity: 0.8959\n",
      "Epoch 94/100\n",
      "30/30 [==============================] - 0s 2ms/step - loss: 2.5272 - cosine_similarity: 0.8959\n",
      "Epoch 95/100\n",
      "30/30 [==============================] - 0s 2ms/step - loss: 2.5190 - cosine_similarity: 0.8987\n",
      "Epoch 96/100\n",
      "30/30 [==============================] - 0s 2ms/step - loss: 2.5262 - cosine_similarity: 0.8974\n",
      "Epoch 97/100\n",
      "30/30 [==============================] - 0s 2ms/step - loss: 2.5191 - cosine_similarity: 0.9008\n",
      "Epoch 98/100\n",
      "30/30 [==============================] - 0s 2ms/step - loss: 2.5285 - cosine_similarity: 0.8944\n",
      "Epoch 99/100\n",
      "30/30 [==============================] - 0s 2ms/step - loss: 2.5213 - cosine_similarity: 0.9014\n",
      "Epoch 100/100\n",
      "30/30 [==============================] - 0s 2ms/step - loss: 2.5208 - cosine_similarity: 0.9006\n",
      "INFO:tensorflow:Assets written to: /home/eva_01/Documents/mi/AtomWaffe/best_model/assets\n"
     ]
    }
   ],
   "source": [
    "shareReg.fit(\n",
    "    x_train,\n",
    "    y_train,\n",
    "    epochs = 100,\n",
    "    validation_split = 0.15\n",
    ")"
   ]
  },
  {
   "cell_type": "code",
   "execution_count": 156,
   "metadata": {},
   "outputs": [],
   "source": [
    "predicted_y = shareReg.predict(x_test)"
   ]
  },
  {
   "cell_type": "code",
   "execution_count": 158,
   "metadata": {},
   "outputs": [],
   "source": [
    "model_export = shareReg.export_model()"
   ]
  },
  {
   "cell_type": "code",
   "execution_count": 160,
   "metadata": {},
   "outputs": [],
   "source": [
    "r = model_export.predict(x_test)"
   ]
  },
  {
   "cell_type": "code",
   "execution_count": 165,
   "metadata": {},
   "outputs": [
    {
     "data": {
      "text/plain": [
       "array([0.07289218, 0.00128594, 0.05434239, 0.05004173, 0.00992957,\n",
       "       0.11571465, 0.25238296, 0.00788645, 0.04177338, 0.09693304,\n",
       "       0.24340636, 0.00291402, 0.00366032, 0.00144523, 0.01894717,\n",
       "       0.00627477, 0.00506304, 0.00127545, 0.00745179, 0.0012317 ,\n",
       "       0.00514787], dtype=float32)"
      ]
     },
     "execution_count": 165,
     "metadata": {},
     "output_type": "execute_result"
    }
   ],
   "source": [
    "r[100]"
   ]
  },
  {
   "cell_type": "code",
   "execution_count": 166,
   "metadata": {},
   "outputs": [
    {
     "data": {
      "text/plain": [
       "array([0.07086649, 0.00116461, 0.06903819, 0.05351724, 0.02111986,\n",
       "       0.12149205, 0.19463116, 0.00183202, 0.05725871, 0.10897142,\n",
       "       0.22193523, 0.00116667, 0.01060005, 0.00330499, 0.02857367,\n",
       "       0.00640042, 0.00336601, 0.00405161, 0.01410834, 0.00418183,\n",
       "       0.00241942])"
      ]
     },
     "execution_count": 166,
     "metadata": {},
     "output_type": "execute_result"
    }
   ],
   "source": [
    "y_test[100]"
   ]
  },
  {
   "cell_type": "code",
   "execution_count": 2,
   "metadata": {},
   "outputs": [],
   "source": [
    "model = keras.models.load_model('/home/eva_01/Documents/mi/AtomWaffe/best_model')"
   ]
  },
  {
   "cell_type": "code",
   "execution_count": 11,
   "metadata": {},
   "outputs": [],
   "source": [
    "rr = model.predict(x_test)"
   ]
  },
  {
   "cell_type": "code",
   "execution_count": 12,
   "metadata": {},
   "outputs": [
    {
     "data": {
      "text/plain": [
       "(236, 21)"
      ]
     },
     "execution_count": 12,
     "metadata": {},
     "output_type": "execute_result"
    }
   ],
   "source": [
    "rr.shape"
   ]
  },
  {
   "cell_type": "code",
   "execution_count": 15,
   "metadata": {},
   "outputs": [
    {
     "data": {
      "text/plain": [
       "(236, 28)"
      ]
     },
     "execution_count": 15,
     "metadata": {},
     "output_type": "execute_result"
    }
   ],
   "source": [
    "x_test.shape"
   ]
  },
  {
   "cell_type": "code",
   "execution_count": null,
   "metadata": {},
   "outputs": [],
   "source": []
  }
 ],
 "metadata": {
  "kernelspec": {
   "display_name": "Python 3",
   "language": "python",
   "name": "python3"
  },
  "language_info": {
   "codemirror_mode": {
    "name": "ipython",
    "version": 3
   },
   "file_extension": ".py",
   "mimetype": "text/x-python",
   "name": "python",
   "nbconvert_exporter": "python",
   "pygments_lexer": "ipython3",
   "version": "3.8.5"
  }
 },
 "nbformat": 4,
 "nbformat_minor": 2
}
